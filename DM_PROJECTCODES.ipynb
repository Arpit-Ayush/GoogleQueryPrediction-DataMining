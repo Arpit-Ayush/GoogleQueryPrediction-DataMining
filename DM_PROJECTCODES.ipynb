{
 "cells": [
  {
   "cell_type": "code",
   "execution_count": 2,
   "metadata": {},
   "outputs": [],
   "source": [
    "import pandas as pd\n",
    "import numpy as np\n",
    "from sklearn.model_selection import train_test_split"
   ]
  },
  {
   "cell_type": "markdown",
   "metadata": {},
   "source": [
    "# ALGORTIHM - 1 - LINEAR DISCRIMINANT ANALYSIS"
   ]
  },
  {
   "cell_type": "code",
   "execution_count": 77,
   "metadata": {},
   "outputs": [],
   "source": [
    "file = pd.read_csv(\"keywordtrend.csv\")"
   ]
  },
  {
   "cell_type": "code",
   "execution_count": 78,
   "metadata": {},
   "outputs": [
    {
     "data": {
      "text/html": [
       "<div>\n",
       "<style scoped>\n",
       "    .dataframe tbody tr th:only-of-type {\n",
       "        vertical-align: middle;\n",
       "    }\n",
       "\n",
       "    .dataframe tbody tr th {\n",
       "        vertical-align: top;\n",
       "    }\n",
       "\n",
       "    .dataframe thead th {\n",
       "        text-align: right;\n",
       "    }\n",
       "</style>\n",
       "<table border=\"1\" class=\"dataframe\">\n",
       "  <thead>\n",
       "    <tr style=\"text-align: right;\">\n",
       "      <th></th>\n",
       "      <th>Keyword</th>\n",
       "      <th>Avgmonthlysearches</th>\n",
       "      <th>Competition</th>\n",
       "      <th>Ad impression share</th>\n",
       "      <th>Jan-17</th>\n",
       "      <th>Feb-17</th>\n",
       "      <th>Mar-17</th>\n",
       "      <th>Apr-17</th>\n",
       "      <th>May-17</th>\n",
       "      <th>Jun-17</th>\n",
       "      <th>...</th>\n",
       "      <th>Mar-20</th>\n",
       "      <th>Apr-20</th>\n",
       "      <th>May-20</th>\n",
       "      <th>Jun-20</th>\n",
       "      <th>Jul-20</th>\n",
       "      <th>Aug-20</th>\n",
       "      <th>Sep-20</th>\n",
       "      <th>Oct-20</th>\n",
       "      <th>Nov-20</th>\n",
       "      <th>Dec-20</th>\n",
       "    </tr>\n",
       "  </thead>\n",
       "  <tbody>\n",
       "    <tr>\n",
       "      <th>0</th>\n",
       "      <td>domestic flight offers</td>\n",
       "      <td>27100</td>\n",
       "      <td>High</td>\n",
       "      <td>12%</td>\n",
       "      <td>49500</td>\n",
       "      <td>40500</td>\n",
       "      <td>40500</td>\n",
       "      <td>40500</td>\n",
       "      <td>40500</td>\n",
       "      <td>40500</td>\n",
       "      <td>...</td>\n",
       "      <td>9900</td>\n",
       "      <td>1300</td>\n",
       "      <td>1900</td>\n",
       "      <td>2400</td>\n",
       "      <td>2400</td>\n",
       "      <td>3600</td>\n",
       "      <td>4400</td>\n",
       "      <td>5400</td>\n",
       "      <td>6600</td>\n",
       "      <td>6600</td>\n",
       "    </tr>\n",
       "    <tr>\n",
       "      <th>1</th>\n",
       "      <td>cheap domestic flights</td>\n",
       "      <td>9900</td>\n",
       "      <td>High</td>\n",
       "      <td>47%</td>\n",
       "      <td>12100</td>\n",
       "      <td>9900</td>\n",
       "      <td>9900</td>\n",
       "      <td>12100</td>\n",
       "      <td>12100</td>\n",
       "      <td>9900</td>\n",
       "      <td>...</td>\n",
       "      <td>6600</td>\n",
       "      <td>1600</td>\n",
       "      <td>1900</td>\n",
       "      <td>2400</td>\n",
       "      <td>1900</td>\n",
       "      <td>2400</td>\n",
       "      <td>2900</td>\n",
       "      <td>3600</td>\n",
       "      <td>4400</td>\n",
       "      <td>4400</td>\n",
       "    </tr>\n",
       "    <tr>\n",
       "      <th>2</th>\n",
       "      <td>card offer for flight booking</td>\n",
       "      <td>20</td>\n",
       "      <td>High</td>\n",
       "      <td>10%</td>\n",
       "      <td>20</td>\n",
       "      <td>10</td>\n",
       "      <td>10</td>\n",
       "      <td>10</td>\n",
       "      <td>10</td>\n",
       "      <td>10</td>\n",
       "      <td>...</td>\n",
       "      <td>20</td>\n",
       "      <td>10</td>\n",
       "      <td>10</td>\n",
       "      <td>10</td>\n",
       "      <td>10</td>\n",
       "      <td>10</td>\n",
       "      <td>20</td>\n",
       "      <td>30</td>\n",
       "      <td>30</td>\n",
       "      <td>20</td>\n",
       "    </tr>\n",
       "    <tr>\n",
       "      <th>3</th>\n",
       "      <td>cheapest flight bookings</td>\n",
       "      <td>12100</td>\n",
       "      <td>High</td>\n",
       "      <td>45%</td>\n",
       "      <td>5400</td>\n",
       "      <td>4400</td>\n",
       "      <td>5400</td>\n",
       "      <td>5400</td>\n",
       "      <td>6600</td>\n",
       "      <td>6600</td>\n",
       "      <td>...</td>\n",
       "      <td>9900</td>\n",
       "      <td>2400</td>\n",
       "      <td>3600</td>\n",
       "      <td>4400</td>\n",
       "      <td>5400</td>\n",
       "      <td>6600</td>\n",
       "      <td>8100</td>\n",
       "      <td>9900</td>\n",
       "      <td>12100</td>\n",
       "      <td>9900</td>\n",
       "    </tr>\n",
       "    <tr>\n",
       "      <th>4</th>\n",
       "      <td>flight domestic booking</td>\n",
       "      <td>6600</td>\n",
       "      <td>High</td>\n",
       "      <td>55%</td>\n",
       "      <td>5400</td>\n",
       "      <td>4400</td>\n",
       "      <td>4400</td>\n",
       "      <td>5400</td>\n",
       "      <td>5400</td>\n",
       "      <td>4400</td>\n",
       "      <td>...</td>\n",
       "      <td>5400</td>\n",
       "      <td>18100</td>\n",
       "      <td>33100</td>\n",
       "      <td>5400</td>\n",
       "      <td>5400</td>\n",
       "      <td>5400</td>\n",
       "      <td>5400</td>\n",
       "      <td>5400</td>\n",
       "      <td>6600</td>\n",
       "      <td>5400</td>\n",
       "    </tr>\n",
       "  </tbody>\n",
       "</table>\n",
       "<p>5 rows × 52 columns</p>\n",
       "</div>"
      ],
      "text/plain": [
       "                         Keyword  Avgmonthlysearches Competition  \\\n",
       "0         domestic flight offers               27100        High   \n",
       "1         cheap domestic flights                9900        High   \n",
       "2  card offer for flight booking                  20        High   \n",
       "3       cheapest flight bookings               12100        High   \n",
       "4        flight domestic booking                6600        High   \n",
       "\n",
       "  Ad impression share  Jan-17  Feb-17  Mar-17  Apr-17  May-17  Jun-17  ...  \\\n",
       "0                 12%   49500   40500   40500   40500   40500   40500  ...   \n",
       "1                 47%   12100    9900    9900   12100   12100    9900  ...   \n",
       "2                 10%      20      10      10      10      10      10  ...   \n",
       "3                 45%    5400    4400    5400    5400    6600    6600  ...   \n",
       "4                 55%    5400    4400    4400    5400    5400    4400  ...   \n",
       "\n",
       "   Mar-20  Apr-20  May-20  Jun-20  Jul-20  Aug-20  Sep-20  Oct-20  Nov-20  \\\n",
       "0    9900    1300    1900    2400    2400    3600    4400    5400    6600   \n",
       "1    6600    1600    1900    2400    1900    2400    2900    3600    4400   \n",
       "2      20      10      10      10      10      10      20      30      30   \n",
       "3    9900    2400    3600    4400    5400    6600    8100    9900   12100   \n",
       "4    5400   18100   33100    5400    5400    5400    5400    5400    6600   \n",
       "\n",
       "   Dec-20  \n",
       "0    6600  \n",
       "1    4400  \n",
       "2      20  \n",
       "3    9900  \n",
       "4    5400  \n",
       "\n",
       "[5 rows x 52 columns]"
      ]
     },
     "execution_count": 78,
     "metadata": {},
     "output_type": "execute_result"
    }
   ],
   "source": [
    "file.head(5)"
   ]
  },
  {
   "cell_type": "code",
   "execution_count": 79,
   "metadata": {},
   "outputs": [],
   "source": [
    "file['mean_click']= file.mean(axis =1)"
   ]
  },
  {
   "cell_type": "code",
   "execution_count": 80,
   "metadata": {},
   "outputs": [
    {
     "data": {
      "text/html": [
       "<div>\n",
       "<style scoped>\n",
       "    .dataframe tbody tr th:only-of-type {\n",
       "        vertical-align: middle;\n",
       "    }\n",
       "\n",
       "    .dataframe tbody tr th {\n",
       "        vertical-align: top;\n",
       "    }\n",
       "\n",
       "    .dataframe thead th {\n",
       "        text-align: right;\n",
       "    }\n",
       "</style>\n",
       "<table border=\"1\" class=\"dataframe\">\n",
       "  <thead>\n",
       "    <tr style=\"text-align: right;\">\n",
       "      <th></th>\n",
       "      <th>Keyword</th>\n",
       "      <th>Avgmonthlysearches</th>\n",
       "      <th>Competition</th>\n",
       "      <th>Ad impression share</th>\n",
       "      <th>Jan-17</th>\n",
       "      <th>Feb-17</th>\n",
       "      <th>Mar-17</th>\n",
       "      <th>Apr-17</th>\n",
       "      <th>May-17</th>\n",
       "      <th>Jun-17</th>\n",
       "      <th>...</th>\n",
       "      <th>Apr-20</th>\n",
       "      <th>May-20</th>\n",
       "      <th>Jun-20</th>\n",
       "      <th>Jul-20</th>\n",
       "      <th>Aug-20</th>\n",
       "      <th>Sep-20</th>\n",
       "      <th>Oct-20</th>\n",
       "      <th>Nov-20</th>\n",
       "      <th>Dec-20</th>\n",
       "      <th>mean_click</th>\n",
       "    </tr>\n",
       "  </thead>\n",
       "  <tbody>\n",
       "    <tr>\n",
       "      <th>0</th>\n",
       "      <td>domestic flight offers</td>\n",
       "      <td>27100</td>\n",
       "      <td>High</td>\n",
       "      <td>12%</td>\n",
       "      <td>49500</td>\n",
       "      <td>40500</td>\n",
       "      <td>40500</td>\n",
       "      <td>40500</td>\n",
       "      <td>40500</td>\n",
       "      <td>40500</td>\n",
       "      <td>...</td>\n",
       "      <td>1300</td>\n",
       "      <td>1900</td>\n",
       "      <td>2400</td>\n",
       "      <td>2400</td>\n",
       "      <td>3600</td>\n",
       "      <td>4400</td>\n",
       "      <td>5400</td>\n",
       "      <td>6600</td>\n",
       "      <td>6600</td>\n",
       "      <td>27177.551020</td>\n",
       "    </tr>\n",
       "    <tr>\n",
       "      <th>1</th>\n",
       "      <td>cheap domestic flights</td>\n",
       "      <td>9900</td>\n",
       "      <td>High</td>\n",
       "      <td>47%</td>\n",
       "      <td>12100</td>\n",
       "      <td>9900</td>\n",
       "      <td>9900</td>\n",
       "      <td>12100</td>\n",
       "      <td>12100</td>\n",
       "      <td>9900</td>\n",
       "      <td>...</td>\n",
       "      <td>1600</td>\n",
       "      <td>1900</td>\n",
       "      <td>2400</td>\n",
       "      <td>1900</td>\n",
       "      <td>2400</td>\n",
       "      <td>2900</td>\n",
       "      <td>3600</td>\n",
       "      <td>4400</td>\n",
       "      <td>4400</td>\n",
       "      <td>9902.040816</td>\n",
       "    </tr>\n",
       "    <tr>\n",
       "      <th>2</th>\n",
       "      <td>card offer for flight booking</td>\n",
       "      <td>20</td>\n",
       "      <td>High</td>\n",
       "      <td>10%</td>\n",
       "      <td>20</td>\n",
       "      <td>10</td>\n",
       "      <td>10</td>\n",
       "      <td>10</td>\n",
       "      <td>10</td>\n",
       "      <td>10</td>\n",
       "      <td>...</td>\n",
       "      <td>10</td>\n",
       "      <td>10</td>\n",
       "      <td>10</td>\n",
       "      <td>10</td>\n",
       "      <td>10</td>\n",
       "      <td>20</td>\n",
       "      <td>30</td>\n",
       "      <td>30</td>\n",
       "      <td>20</td>\n",
       "      <td>18.979592</td>\n",
       "    </tr>\n",
       "    <tr>\n",
       "      <th>3</th>\n",
       "      <td>cheapest flight bookings</td>\n",
       "      <td>12100</td>\n",
       "      <td>High</td>\n",
       "      <td>45%</td>\n",
       "      <td>5400</td>\n",
       "      <td>4400</td>\n",
       "      <td>5400</td>\n",
       "      <td>5400</td>\n",
       "      <td>6600</td>\n",
       "      <td>6600</td>\n",
       "      <td>...</td>\n",
       "      <td>2400</td>\n",
       "      <td>3600</td>\n",
       "      <td>4400</td>\n",
       "      <td>5400</td>\n",
       "      <td>6600</td>\n",
       "      <td>8100</td>\n",
       "      <td>9900</td>\n",
       "      <td>12100</td>\n",
       "      <td>9900</td>\n",
       "      <td>12022.448980</td>\n",
       "    </tr>\n",
       "    <tr>\n",
       "      <th>4</th>\n",
       "      <td>flight domestic booking</td>\n",
       "      <td>6600</td>\n",
       "      <td>High</td>\n",
       "      <td>55%</td>\n",
       "      <td>5400</td>\n",
       "      <td>4400</td>\n",
       "      <td>4400</td>\n",
       "      <td>5400</td>\n",
       "      <td>5400</td>\n",
       "      <td>4400</td>\n",
       "      <td>...</td>\n",
       "      <td>18100</td>\n",
       "      <td>33100</td>\n",
       "      <td>5400</td>\n",
       "      <td>5400</td>\n",
       "      <td>5400</td>\n",
       "      <td>5400</td>\n",
       "      <td>5400</td>\n",
       "      <td>6600</td>\n",
       "      <td>5400</td>\n",
       "      <td>6916.326531</td>\n",
       "    </tr>\n",
       "  </tbody>\n",
       "</table>\n",
       "<p>5 rows × 53 columns</p>\n",
       "</div>"
      ],
      "text/plain": [
       "                         Keyword  Avgmonthlysearches Competition  \\\n",
       "0         domestic flight offers               27100        High   \n",
       "1         cheap domestic flights                9900        High   \n",
       "2  card offer for flight booking                  20        High   \n",
       "3       cheapest flight bookings               12100        High   \n",
       "4        flight domestic booking                6600        High   \n",
       "\n",
       "  Ad impression share  Jan-17  Feb-17  Mar-17  Apr-17  May-17  Jun-17  ...  \\\n",
       "0                 12%   49500   40500   40500   40500   40500   40500  ...   \n",
       "1                 47%   12100    9900    9900   12100   12100    9900  ...   \n",
       "2                 10%      20      10      10      10      10      10  ...   \n",
       "3                 45%    5400    4400    5400    5400    6600    6600  ...   \n",
       "4                 55%    5400    4400    4400    5400    5400    4400  ...   \n",
       "\n",
       "   Apr-20  May-20  Jun-20  Jul-20  Aug-20  Sep-20  Oct-20  Nov-20  Dec-20  \\\n",
       "0    1300    1900    2400    2400    3600    4400    5400    6600    6600   \n",
       "1    1600    1900    2400    1900    2400    2900    3600    4400    4400   \n",
       "2      10      10      10      10      10      20      30      30      20   \n",
       "3    2400    3600    4400    5400    6600    8100    9900   12100    9900   \n",
       "4   18100   33100    5400    5400    5400    5400    5400    6600    5400   \n",
       "\n",
       "     mean_click  \n",
       "0  27177.551020  \n",
       "1   9902.040816  \n",
       "2     18.979592  \n",
       "3  12022.448980  \n",
       "4   6916.326531  \n",
       "\n",
       "[5 rows x 53 columns]"
      ]
     },
     "execution_count": 80,
     "metadata": {},
     "output_type": "execute_result"
    }
   ],
   "source": [
    "file.head()"
   ]
  },
  {
   "cell_type": "code",
   "execution_count": 81,
   "metadata": {},
   "outputs": [
    {
     "data": {
      "text/html": [
       "<div>\n",
       "<style scoped>\n",
       "    .dataframe tbody tr th:only-of-type {\n",
       "        vertical-align: middle;\n",
       "    }\n",
       "\n",
       "    .dataframe tbody tr th {\n",
       "        vertical-align: top;\n",
       "    }\n",
       "\n",
       "    .dataframe thead th {\n",
       "        text-align: right;\n",
       "    }\n",
       "</style>\n",
       "<table border=\"1\" class=\"dataframe\">\n",
       "  <thead>\n",
       "    <tr style=\"text-align: right;\">\n",
       "      <th></th>\n",
       "      <th>Keyword</th>\n",
       "      <th>Avgmonthlysearches</th>\n",
       "      <th>Competition</th>\n",
       "      <th>Ad impression share</th>\n",
       "      <th>Jan-17</th>\n",
       "      <th>Feb-17</th>\n",
       "      <th>Mar-17</th>\n",
       "      <th>Apr-17</th>\n",
       "      <th>May-17</th>\n",
       "      <th>Jun-17</th>\n",
       "      <th>...</th>\n",
       "      <th>Apr-20</th>\n",
       "      <th>May-20</th>\n",
       "      <th>Jun-20</th>\n",
       "      <th>Jul-20</th>\n",
       "      <th>Aug-20</th>\n",
       "      <th>Sep-20</th>\n",
       "      <th>Oct-20</th>\n",
       "      <th>Nov-20</th>\n",
       "      <th>Dec-20</th>\n",
       "      <th>mean_click</th>\n",
       "    </tr>\n",
       "  </thead>\n",
       "  <tbody>\n",
       "    <tr>\n",
       "      <th>103</th>\n",
       "      <td>bangalore to silchar flight ticket price</td>\n",
       "      <td>110</td>\n",
       "      <td>Low</td>\n",
       "      <td>&lt; 1%</td>\n",
       "      <td>70</td>\n",
       "      <td>70</td>\n",
       "      <td>70</td>\n",
       "      <td>70</td>\n",
       "      <td>30</td>\n",
       "      <td>40</td>\n",
       "      <td>...</td>\n",
       "      <td>90</td>\n",
       "      <td>70</td>\n",
       "      <td>140</td>\n",
       "      <td>260</td>\n",
       "      <td>170</td>\n",
       "      <td>170</td>\n",
       "      <td>170</td>\n",
       "      <td>170</td>\n",
       "      <td>140</td>\n",
       "      <td>116.734694</td>\n",
       "    </tr>\n",
       "    <tr>\n",
       "      <th>104</th>\n",
       "      <td>tui flights</td>\n",
       "      <td>480</td>\n",
       "      <td>Low</td>\n",
       "      <td>48%</td>\n",
       "      <td>20</td>\n",
       "      <td>40</td>\n",
       "      <td>50</td>\n",
       "      <td>30</td>\n",
       "      <td>50</td>\n",
       "      <td>30</td>\n",
       "      <td>...</td>\n",
       "      <td>140</td>\n",
       "      <td>480</td>\n",
       "      <td>320</td>\n",
       "      <td>210</td>\n",
       "      <td>320</td>\n",
       "      <td>390</td>\n",
       "      <td>390</td>\n",
       "      <td>260</td>\n",
       "      <td>320</td>\n",
       "      <td>431.632653</td>\n",
       "    </tr>\n",
       "    <tr>\n",
       "      <th>105</th>\n",
       "      <td>tui</td>\n",
       "      <td>8100</td>\n",
       "      <td>Low</td>\n",
       "      <td>8%</td>\n",
       "      <td>8100</td>\n",
       "      <td>8100</td>\n",
       "      <td>9900</td>\n",
       "      <td>8100</td>\n",
       "      <td>9900</td>\n",
       "      <td>9900</td>\n",
       "      <td>...</td>\n",
       "      <td>6600</td>\n",
       "      <td>6600</td>\n",
       "      <td>6600</td>\n",
       "      <td>6600</td>\n",
       "      <td>8100</td>\n",
       "      <td>8100</td>\n",
       "      <td>8100</td>\n",
       "      <td>6600</td>\n",
       "      <td>8100</td>\n",
       "      <td>8053.061224</td>\n",
       "    </tr>\n",
       "    <tr>\n",
       "      <th>106</th>\n",
       "      <td>fly tui</td>\n",
       "      <td>320</td>\n",
       "      <td>Low</td>\n",
       "      <td>NaN</td>\n",
       "      <td>320</td>\n",
       "      <td>320</td>\n",
       "      <td>390</td>\n",
       "      <td>320</td>\n",
       "      <td>320</td>\n",
       "      <td>320</td>\n",
       "      <td>...</td>\n",
       "      <td>210</td>\n",
       "      <td>170</td>\n",
       "      <td>170</td>\n",
       "      <td>210</td>\n",
       "      <td>170</td>\n",
       "      <td>140</td>\n",
       "      <td>110</td>\n",
       "      <td>140</td>\n",
       "      <td>140</td>\n",
       "      <td>344.285714</td>\n",
       "    </tr>\n",
       "    <tr>\n",
       "      <th>107</th>\n",
       "      <td>tui airlines</td>\n",
       "      <td>320</td>\n",
       "      <td>Low</td>\n",
       "      <td>2%</td>\n",
       "      <td>90</td>\n",
       "      <td>90</td>\n",
       "      <td>140</td>\n",
       "      <td>90</td>\n",
       "      <td>90</td>\n",
       "      <td>170</td>\n",
       "      <td>...</td>\n",
       "      <td>260</td>\n",
       "      <td>260</td>\n",
       "      <td>480</td>\n",
       "      <td>260</td>\n",
       "      <td>260</td>\n",
       "      <td>260</td>\n",
       "      <td>170</td>\n",
       "      <td>210</td>\n",
       "      <td>320</td>\n",
       "      <td>306.326531</td>\n",
       "    </tr>\n",
       "  </tbody>\n",
       "</table>\n",
       "<p>5 rows × 53 columns</p>\n",
       "</div>"
      ],
      "text/plain": [
       "                                      Keyword  Avgmonthlysearches Competition  \\\n",
       "103  bangalore to silchar flight ticket price                 110         Low   \n",
       "104                               tui flights                 480         Low   \n",
       "105                                       tui                8100         Low   \n",
       "106                                   fly tui                 320         Low   \n",
       "107                              tui airlines                 320         Low   \n",
       "\n",
       "    Ad impression share  Jan-17  Feb-17  Mar-17  Apr-17  May-17  Jun-17  ...  \\\n",
       "103                < 1%      70      70      70      70      30      40  ...   \n",
       "104                 48%      20      40      50      30      50      30  ...   \n",
       "105                  8%    8100    8100    9900    8100    9900    9900  ...   \n",
       "106                 NaN     320     320     390     320     320     320  ...   \n",
       "107                  2%      90      90     140      90      90     170  ...   \n",
       "\n",
       "     Apr-20  May-20  Jun-20  Jul-20  Aug-20  Sep-20  Oct-20  Nov-20  Dec-20  \\\n",
       "103      90      70     140     260     170     170     170     170     140   \n",
       "104     140     480     320     210     320     390     390     260     320   \n",
       "105    6600    6600    6600    6600    8100    8100    8100    6600    8100   \n",
       "106     210     170     170     210     170     140     110     140     140   \n",
       "107     260     260     480     260     260     260     170     210     320   \n",
       "\n",
       "      mean_click  \n",
       "103   116.734694  \n",
       "104   431.632653  \n",
       "105  8053.061224  \n",
       "106   344.285714  \n",
       "107   306.326531  \n",
       "\n",
       "[5 rows x 53 columns]"
      ]
     },
     "execution_count": 81,
     "metadata": {},
     "output_type": "execute_result"
    }
   ],
   "source": [
    "file.tail()"
   ]
  },
  {
   "cell_type": "code",
   "execution_count": 87,
   "metadata": {},
   "outputs": [],
   "source": [
    "file['Competition'].replace('High',2, inplace=True)\n",
    "file['Competition'].replace('Medium',1, inplace=True)\n",
    "file['Competition'].replace('Low',0, inplace=True)"
   ]
  },
  {
   "cell_type": "code",
   "execution_count": 88,
   "metadata": {},
   "outputs": [
    {
     "name": "stdout",
     "output_type": "stream",
     "text": [
      "0      1\n",
      "1      1\n",
      "2      1\n",
      "3      1\n",
      "4      1\n",
      "      ..\n",
      "103    0\n",
      "104    0\n",
      "105    0\n",
      "106    0\n",
      "107    0\n",
      "Name: Competition, Length: 108, dtype: int64\n"
     ]
    }
   ],
   "source": [
    "x = file[['Avgmonthlysearches','mean_click']]\n",
    "y = file['Competition']\n",
    "print(y)"
   ]
  },
  {
   "cell_type": "code",
   "execution_count": 96,
   "metadata": {},
   "outputs": [
    {
     "data": {
      "text/html": [
       "<div>\n",
       "<style scoped>\n",
       "    .dataframe tbody tr th:only-of-type {\n",
       "        vertical-align: middle;\n",
       "    }\n",
       "\n",
       "    .dataframe tbody tr th {\n",
       "        vertical-align: top;\n",
       "    }\n",
       "\n",
       "    .dataframe thead th {\n",
       "        text-align: right;\n",
       "    }\n",
       "</style>\n",
       "<table border=\"1\" class=\"dataframe\">\n",
       "  <thead>\n",
       "    <tr style=\"text-align: right;\">\n",
       "      <th></th>\n",
       "      <th>Keyword</th>\n",
       "      <th>Avgmonthlysearches</th>\n",
       "      <th>Competition</th>\n",
       "      <th>Ad impression share</th>\n",
       "      <th>Jan-17</th>\n",
       "      <th>Feb-17</th>\n",
       "      <th>Mar-17</th>\n",
       "      <th>Apr-17</th>\n",
       "      <th>May-17</th>\n",
       "      <th>Jun-17</th>\n",
       "      <th>...</th>\n",
       "      <th>Apr-20</th>\n",
       "      <th>May-20</th>\n",
       "      <th>Jun-20</th>\n",
       "      <th>Jul-20</th>\n",
       "      <th>Aug-20</th>\n",
       "      <th>Sep-20</th>\n",
       "      <th>Oct-20</th>\n",
       "      <th>Nov-20</th>\n",
       "      <th>Dec-20</th>\n",
       "      <th>mean_click</th>\n",
       "    </tr>\n",
       "  </thead>\n",
       "  <tbody>\n",
       "    <tr>\n",
       "      <th>103</th>\n",
       "      <td>bangalore to silchar flight ticket price</td>\n",
       "      <td>110</td>\n",
       "      <td>0</td>\n",
       "      <td>&lt; 1%</td>\n",
       "      <td>70</td>\n",
       "      <td>70</td>\n",
       "      <td>70</td>\n",
       "      <td>70</td>\n",
       "      <td>30</td>\n",
       "      <td>40</td>\n",
       "      <td>...</td>\n",
       "      <td>90</td>\n",
       "      <td>70</td>\n",
       "      <td>140</td>\n",
       "      <td>260</td>\n",
       "      <td>170</td>\n",
       "      <td>170</td>\n",
       "      <td>170</td>\n",
       "      <td>170</td>\n",
       "      <td>140</td>\n",
       "      <td>116.734694</td>\n",
       "    </tr>\n",
       "    <tr>\n",
       "      <th>104</th>\n",
       "      <td>tui flights</td>\n",
       "      <td>480</td>\n",
       "      <td>0</td>\n",
       "      <td>48%</td>\n",
       "      <td>20</td>\n",
       "      <td>40</td>\n",
       "      <td>50</td>\n",
       "      <td>30</td>\n",
       "      <td>50</td>\n",
       "      <td>30</td>\n",
       "      <td>...</td>\n",
       "      <td>140</td>\n",
       "      <td>480</td>\n",
       "      <td>320</td>\n",
       "      <td>210</td>\n",
       "      <td>320</td>\n",
       "      <td>390</td>\n",
       "      <td>390</td>\n",
       "      <td>260</td>\n",
       "      <td>320</td>\n",
       "      <td>431.632653</td>\n",
       "    </tr>\n",
       "    <tr>\n",
       "      <th>105</th>\n",
       "      <td>tui</td>\n",
       "      <td>8100</td>\n",
       "      <td>0</td>\n",
       "      <td>8%</td>\n",
       "      <td>8100</td>\n",
       "      <td>8100</td>\n",
       "      <td>9900</td>\n",
       "      <td>8100</td>\n",
       "      <td>9900</td>\n",
       "      <td>9900</td>\n",
       "      <td>...</td>\n",
       "      <td>6600</td>\n",
       "      <td>6600</td>\n",
       "      <td>6600</td>\n",
       "      <td>6600</td>\n",
       "      <td>8100</td>\n",
       "      <td>8100</td>\n",
       "      <td>8100</td>\n",
       "      <td>6600</td>\n",
       "      <td>8100</td>\n",
       "      <td>8053.061224</td>\n",
       "    </tr>\n",
       "    <tr>\n",
       "      <th>106</th>\n",
       "      <td>fly tui</td>\n",
       "      <td>320</td>\n",
       "      <td>0</td>\n",
       "      <td>NaN</td>\n",
       "      <td>320</td>\n",
       "      <td>320</td>\n",
       "      <td>390</td>\n",
       "      <td>320</td>\n",
       "      <td>320</td>\n",
       "      <td>320</td>\n",
       "      <td>...</td>\n",
       "      <td>210</td>\n",
       "      <td>170</td>\n",
       "      <td>170</td>\n",
       "      <td>210</td>\n",
       "      <td>170</td>\n",
       "      <td>140</td>\n",
       "      <td>110</td>\n",
       "      <td>140</td>\n",
       "      <td>140</td>\n",
       "      <td>344.285714</td>\n",
       "    </tr>\n",
       "    <tr>\n",
       "      <th>107</th>\n",
       "      <td>tui airlines</td>\n",
       "      <td>320</td>\n",
       "      <td>0</td>\n",
       "      <td>2%</td>\n",
       "      <td>90</td>\n",
       "      <td>90</td>\n",
       "      <td>140</td>\n",
       "      <td>90</td>\n",
       "      <td>90</td>\n",
       "      <td>170</td>\n",
       "      <td>...</td>\n",
       "      <td>260</td>\n",
       "      <td>260</td>\n",
       "      <td>480</td>\n",
       "      <td>260</td>\n",
       "      <td>260</td>\n",
       "      <td>260</td>\n",
       "      <td>170</td>\n",
       "      <td>210</td>\n",
       "      <td>320</td>\n",
       "      <td>306.326531</td>\n",
       "    </tr>\n",
       "  </tbody>\n",
       "</table>\n",
       "<p>5 rows × 53 columns</p>\n",
       "</div>"
      ],
      "text/plain": [
       "                                      Keyword  Avgmonthlysearches  \\\n",
       "103  bangalore to silchar flight ticket price                 110   \n",
       "104                               tui flights                 480   \n",
       "105                                       tui                8100   \n",
       "106                                   fly tui                 320   \n",
       "107                              tui airlines                 320   \n",
       "\n",
       "     Competition Ad impression share  Jan-17  Feb-17  Mar-17  Apr-17  May-17  \\\n",
       "103            0                < 1%      70      70      70      70      30   \n",
       "104            0                 48%      20      40      50      30      50   \n",
       "105            0                  8%    8100    8100    9900    8100    9900   \n",
       "106            0                 NaN     320     320     390     320     320   \n",
       "107            0                  2%      90      90     140      90      90   \n",
       "\n",
       "     Jun-17  ...  Apr-20  May-20  Jun-20  Jul-20  Aug-20  Sep-20  Oct-20  \\\n",
       "103      40  ...      90      70     140     260     170     170     170   \n",
       "104      30  ...     140     480     320     210     320     390     390   \n",
       "105    9900  ...    6600    6600    6600    6600    8100    8100    8100   \n",
       "106     320  ...     210     170     170     210     170     140     110   \n",
       "107     170  ...     260     260     480     260     260     260     170   \n",
       "\n",
       "     Nov-20  Dec-20   mean_click  \n",
       "103     170     140   116.734694  \n",
       "104     260     320   431.632653  \n",
       "105    6600    8100  8053.061224  \n",
       "106     140     140   344.285714  \n",
       "107     210     320   306.326531  \n",
       "\n",
       "[5 rows x 53 columns]"
      ]
     },
     "execution_count": 96,
     "metadata": {},
     "output_type": "execute_result"
    }
   ],
   "source": [
    "file.tail()"
   ]
  },
  {
   "cell_type": "code",
   "execution_count": 97,
   "metadata": {},
   "outputs": [],
   "source": [
    "# splitting the dataset into train and test\n",
    "x_train,x_test,y_train,y_test = train_test_split(x,y,test_size=0.20)"
   ]
  },
  {
   "cell_type": "code",
   "execution_count": 98,
   "metadata": {},
   "outputs": [],
   "source": [
    "#performing linear discriminant analysis \n",
    "from sklearn.discriminant_analysis import LinearDiscriminantAnalysis\n",
    "lda = LinearDiscriminantAnalysis()\n",
    "X_lda = lda.fit_transform(x, y)"
   ]
  },
  {
   "cell_type": "code",
   "execution_count": 101,
   "metadata": {},
   "outputs": [],
   "source": [
    "y_pred = lda.predict(x_test)"
   ]
  },
  {
   "cell_type": "code",
   "execution_count": 103,
   "metadata": {},
   "outputs": [
    {
     "name": "stdout",
     "output_type": "stream",
     "text": [
      "              precision    recall  f1-score   support\n",
      "\n",
      "           0       0.00      0.00      0.00         3\n",
      "           1       0.86      1.00      0.93        19\n",
      "\n",
      "    accuracy                           0.86        22\n",
      "   macro avg       0.43      0.50      0.46        22\n",
      "weighted avg       0.75      0.86      0.80        22\n",
      "\n"
     ]
    }
   ],
   "source": [
    "from sklearn.metrics import classification_report, confusion_matrix\n",
    "# print(confusion_matrix(y_test,y_pred))\n",
    "print(classification_report(y_test,y_pred))"
   ]
  },
  {
   "cell_type": "markdown",
   "metadata": {},
   "source": [
    "# ALOGRITHM - 2-  DECISION TREE"
   ]
  },
  {
   "cell_type": "code",
   "execution_count": 105,
   "metadata": {},
   "outputs": [],
   "source": [
    "file['Competition'].replace('High',2, inplace=True)\n",
    "file['Competition'].replace('Medium',1, inplace=True)\n",
    "file['Competition'].replace('Low',0, inplace=True)"
   ]
  },
  {
   "cell_type": "code",
   "execution_count": 106,
   "metadata": {},
   "outputs": [],
   "source": [
    "x = file[['Avgmonthlysearches','mean_click']] # input labels which are numerical values \n",
    "y = file['Competition'] # labels which is categorical"
   ]
  },
  {
   "cell_type": "code",
   "execution_count": 107,
   "metadata": {},
   "outputs": [],
   "source": [
    "from sklearn.model_selection import train_test_split\n",
    "x_train,x_test,y_train,y_test = train_test_split(x,y,test_size=0.2, random_state = 10)"
   ]
  },
  {
   "cell_type": "code",
   "execution_count": 108,
   "metadata": {},
   "outputs": [],
   "source": [
    "from sklearn.tree import DecisionTreeClassifier\n",
    "# Create Decision Tree classifer object\n",
    "clf = DecisionTreeClassifier()\n",
    "\n",
    "# Train Decision Tree Classifer\n",
    "clf = clf.fit(x_train,y_train)\n",
    "\n",
    "#Predict the response for test dataset\n",
    "y_pred = clf.predict(x_test)"
   ]
  },
  {
   "cell_type": "code",
   "execution_count": 117,
   "metadata": {},
   "outputs": [
    {
     "name": "stdout",
     "output_type": "stream",
     "text": [
      "Accuracy score on train sets : 0.8953488372093024\n",
      "Accuracy score on test sets : 0.8636363636363636\n"
     ]
    }
   ],
   "source": [
    "clf=DecisionTreeClassifier(criterion='entropy' ,min_samples_split=20) #min samples that is required to split the internal node\n",
    "clf.fit(x_train,y_train)\n",
    "print('Accuracy score on train sets :', accuracy_score(y_true=y_train , y_pred=clf.predict(x_train)))\n",
    "print('Accuracy score on test sets :', accuracy_score(y_true=y_test, y_pred=clf.predict(x_test)))"
   ]
  },
  {
   "cell_type": "code",
   "execution_count": 118,
   "metadata": {},
   "outputs": [
    {
     "data": {
      "image/png": "[encoded data removed]",
      "text/plain": [
       "<Figure size 432x288 with 1 Axes>"
      ]
     },
     "metadata": {
      "needs_background": "light"
     },
     "output_type": "display_data"
    }
   ],
   "source": [
    "from sklearn.tree import plot_tree  # ploting of decision tree\n",
    "import matplotlib.pyplot as plt\n",
    "%matplotlib inline\n",
    "plot_tree(clf,filled=True)\n",
    "plt.show()"
   ]
  },
  {
   "cell_type": "markdown",
   "metadata": {},
   "source": [
    "# ALGORITHM - 3 - GRADIENT DESCENT"
   ]
  },
  {
   "cell_type": "code",
   "execution_count": 3,
   "metadata": {},
   "outputs": [],
   "source": [
    "data = pd.read_csv('C:/Users/SAHARSH TRIPATHI/Downloads/keywordtrend (1).csv')"
   ]
  },
  {
   "cell_type": "code",
   "execution_count": 4,
   "metadata": {},
   "outputs": [
    {
     "data": {
      "image/png": "[encoded data removed]",
      "text/plain": [
       "<Figure size 648x432 with 1 Axes>"
      ]
     },
     "metadata": {},
     "output_type": "display_data"
    }
   ],
   "source": [
    "%matplotlib inline\n",
    "\n",
    "import seaborn as sns\n",
    "import matplotlib.pyplot as plt\n",
    "plt.style.use('ggplot')\n",
    "\n",
    "fig, ax = plt.subplots(figsize=(9, 6))\n",
    "sns.scatterplot(y='Competition', x='Avgmonthlysearches', data=data, ax=ax, color='red')\n",
    "ax.set_title('relationship between average monthly searches and Competetion', pad=20, size=18, color='grey')\n",
    "plt.savefig('scatterplot.png')"
   ]
  },
  {
   "cell_type": "code",
   "execution_count": 5,
   "metadata": {},
   "outputs": [
    {
     "data": {
      "image/png": "[encoded data removed]",
      "text/plain": [
       "<Figure size 648x432 with 1 Axes>"
      ]
     },
     "metadata": {},
     "output_type": "display_data"
    }
   ],
   "source": [
    "fig, ax = plt.subplots(figsize=(9, 6))\n",
    "sns.scatterplot(y='Competition', x='Ad impresion', data=data, ax=ax, color='red')\n",
    "ax.set_title('relationship between Ad impression and Competetion', pad=20, size=18, color='grey')\n",
    "plt.savefig('scatterplot.png')"
   ]
  },
  {
   "cell_type": "code",
   "execution_count": 6,
   "metadata": {},
   "outputs": [],
   "source": [
    "data['Competition'].replace('High',2, inplace=True)\n",
    "data['Competition'].replace('Medium',1, inplace=True)\n",
    "data['Competition'].replace('Low',0, inplace=True)"
   ]
  },
  {
   "cell_type": "code",
   "execution_count": 7,
   "metadata": {},
   "outputs": [],
   "source": [
    "m = data['Competition'].values.size"
   ]
  },
  {
   "cell_type": "code",
   "execution_count": 8,
   "metadata": {},
   "outputs": [],
   "source": [
    "X=np.append(np.ones((m, 1)), data['Ad impresion'].values.reshape(m, 1), axis=1)"
   ]
  },
  {
   "cell_type": "code",
   "execution_count": 9,
   "metadata": {},
   "outputs": [],
   "source": [
    "y = data['Competition'].values.reshape(m,1)"
   ]
  },
  {
   "cell_type": "code",
   "execution_count": 10,
   "metadata": {},
   "outputs": [],
   "source": [
    "theta = np.zeros((2,1))"
   ]
  },
  {
   "cell_type": "code",
   "execution_count": 11,
   "metadata": {},
   "outputs": [],
   "source": [
    "#Computing cost function\n",
    "def cost_function(X, y, theta):\n",
    "    y_pred = np.dot(X, theta)\n",
    "    sqr_error = (y_pred-y)**2\n",
    "    cost = 1/(2*m)*np.sum(sqr_error)\n",
    "    return cost"
   ]
  },
  {
   "cell_type": "code",
   "execution_count": 12,
   "metadata": {},
   "outputs": [
    {
     "data": {
      "text/plain": [
       "0.4907407407407407"
      ]
     },
     "execution_count": 12,
     "metadata": {},
     "output_type": "execute_result"
    }
   ],
   "source": [
    "cost_function(X, y, theta)"
   ]
  },
  {
   "cell_type": "code",
   "execution_count": 13,
   "metadata": {},
   "outputs": [],
   "source": [
    "#Run the Gradient Descent\n",
    "def grdt_dscnt(X, y, theta, alpha, iterations):\n",
    "    costs=[]\n",
    "    for i in range(iterations):\n",
    "        y_pred = np.dot(X, theta)\n",
    "        der = np.dot(X.transpose(), (y_pred - y)) /m\n",
    "        theta -=alpha*der\n",
    "        costs.append(cost_function(X, y, theta))\n",
    "        \n",
    "    return theta, costs"
   ]
  },
  {
   "cell_type": "code",
   "execution_count": 14,
   "metadata": {},
   "outputs": [],
   "source": [
    "theta, costs = grdt_dscnt(X, y, theta, alpha=0.000068, iterations=10000)"
   ]
  },
  {
   "cell_type": "code",
   "execution_count": 15,
   "metadata": {},
   "outputs": [
    {
     "data": {
      "text/plain": [
       "array([[0.14735575],\n",
       "       [0.02184435]])"
      ]
     },
     "execution_count": 15,
     "metadata": {},
     "output_type": "execute_result"
    }
   ],
   "source": [
    "theta"
   ]
  },
  {
   "cell_type": "code",
   "execution_count": 16,
   "metadata": {},
   "outputs": [
    {
     "data": {
      "text/plain": [
       "0.13436413457032814"
      ]
     },
     "execution_count": 16,
     "metadata": {},
     "output_type": "execute_result"
    }
   ],
   "source": [
    "costs[-1]# minimum cost always store in last index of array"
   ]
  },
  {
   "cell_type": "code",
   "execution_count": 17,
   "metadata": {},
   "outputs": [
    {
     "data": {
      "text/plain": [
       "Text(0, 0.5, 'Theta')"
      ]
     },
     "execution_count": 17,
     "metadata": {},
     "output_type": "execute_result"
    },
    {
     "data": {
      "image/png": "[encoded data removed]",
      "text/plain": [
       "<Figure size 648x432 with 1 Axes>"
      ]
     },
     "metadata": {},
     "output_type": "display_data"
    }
   ],
   "source": [
    "fig, ax = plt.subplots(figsize = (9,6))\n",
    "ax.plot(costs)\n",
    "ax.set_title(\"values of cost function over iteration of gradient descent\", pad=20, size=18, color = 'grey')\n",
    "ax.set_xlabel(\"Iterations\", size=14)\n",
    "ax.set_ylabel(\"Theta\", size=14)"
   ]
  },
  {
   "cell_type": "code",
   "execution_count": 18,
   "metadata": {},
   "outputs": [
    {
     "data": {
      "text/plain": [
       "array([[0.147],\n",
       "       [0.022]])"
      ]
     },
     "execution_count": 18,
     "metadata": {},
     "output_type": "execute_result"
    }
   ],
   "source": [
    "#Train the model for making predictions\n",
    "np.round(theta, 3)\n",
    "# b0=0.147 & b1 = 0.022\n",
    "# competiton = 0.147+0.022*Ad impresion"
   ]
  },
  {
   "cell_type": "code",
   "execution_count": 19,
   "metadata": {},
   "outputs": [],
   "source": [
    "y_pred = np.dot(X, np.round(theta, 3))\n",
    "dic = {'competition(actual)':y.flatten(),'competition(predicted)':np.round(y_pred, 0).flatten()}\n",
    "df1 = pd.DataFrame(dic)\n"
   ]
  },
  {
   "cell_type": "code",
   "execution_count": 20,
   "metadata": {},
   "outputs": [
    {
     "data": {
      "text/html": [
       "<div>\n",
       "<style scoped>\n",
       "    .dataframe tbody tr th:only-of-type {\n",
       "        vertical-align: middle;\n",
       "    }\n",
       "\n",
       "    .dataframe tbody tr th {\n",
       "        vertical-align: top;\n",
       "    }\n",
       "\n",
       "    .dataframe thead th {\n",
       "        text-align: right;\n",
       "    }\n",
       "</style>\n",
       "<table border=\"1\" class=\"dataframe\">\n",
       "  <thead>\n",
       "    <tr style=\"text-align: right;\">\n",
       "      <th></th>\n",
       "      <th>competition(actual)</th>\n",
       "      <th>competition(predicted)</th>\n",
       "    </tr>\n",
       "  </thead>\n",
       "  <tbody>\n",
       "    <tr>\n",
       "      <th>103</th>\n",
       "      <td>0</td>\n",
       "      <td>0.0</td>\n",
       "    </tr>\n",
       "    <tr>\n",
       "      <th>104</th>\n",
       "      <td>0</td>\n",
       "      <td>1.0</td>\n",
       "    </tr>\n",
       "    <tr>\n",
       "      <th>105</th>\n",
       "      <td>0</td>\n",
       "      <td>0.0</td>\n",
       "    </tr>\n",
       "    <tr>\n",
       "      <th>106</th>\n",
       "      <td>0</td>\n",
       "      <td>0.0</td>\n",
       "    </tr>\n",
       "    <tr>\n",
       "      <th>107</th>\n",
       "      <td>0</td>\n",
       "      <td>0.0</td>\n",
       "    </tr>\n",
       "  </tbody>\n",
       "</table>\n",
       "</div>"
      ],
      "text/plain": [
       "     competition(actual)  competition(predicted)\n",
       "103                    0                     0.0\n",
       "104                    0                     1.0\n",
       "105                    0                     0.0\n",
       "106                    0                     0.0\n",
       "107                    0                     0.0"
      ]
     },
     "execution_count": 20,
     "metadata": {},
     "output_type": "execute_result"
    }
   ],
   "source": [
    "df1.tail()"
   ]
  },
  {
   "cell_type": "code",
   "execution_count": 21,
   "metadata": {},
   "outputs": [
    {
     "name": "stdout",
     "output_type": "stream",
     "text": [
      "0.35600385280538765\n",
      "MSE:  0.27\n",
      "RMSE:  0.52\n"
     ]
    }
   ],
   "source": [
    " #Evaluate the model performanc.\n",
    "column_1 = data[\"Ad impresion\"]\n",
    "column_2 = data[\"Competition\"]\n",
    "correlation = column_1. corr(column_2)\n",
    "print(correlation)\n",
    "\n",
    "MSE = ((y-y_pred)**2).sum()/m\n",
    "RMSE = np.sqrt(MSE)\n",
    "print('MSE: ', np.round(MSE, 2))\n",
    "print('RMSE: ', np.round(RMSE, 2))"
   ]
  },
  {
   "cell_type": "code",
   "execution_count": 4,
   "metadata": {},
   "outputs": [],
   "source": [
    "data = pd.read_csv('C:/Users/SAHARSH TRIPATHI/Downloads/keywordtrend (1).csv')\n",
    "X=data.iloc[:,2]\n",
    "data['Competition'].replace('High',2, inplace=True)\n",
    "data['Competition'].replace('Medium',1, inplace=True)\n",
    "data['Competition'].replace('Low',0, inplace=True)\n",
    "y= data.iloc[:,3]"
   ]
  },
  {
   "cell_type": "code",
   "execution_count": 6,
   "metadata": {},
   "outputs": [
    {
     "name": "stdout",
     "output_type": "stream",
     "text": [
      "Accuracy: 89.867 (0.030)\n"
     ]
    }
   ],
   "source": [
    "# evaluate gradient boosting algorithm for classification\n",
    "from numpy import mean\n",
    "from numpy import std\n",
    "from sklearn.datasets import make_classification\n",
    "from sklearn.model_selection import cross_val_score\n",
    "from sklearn.model_selection import RepeatedStratifiedKFold\n",
    "from sklearn.ensemble import GradientBoostingClassifier\n",
    "# define dataset\n",
    "X, y = make_classification(n_samples=1000, n_features=20, n_informative=15, n_redundant=5, random_state=7)\n",
    "# define the model\n",
    "model = GradientBoostingClassifier()\n",
    "# define the evaluation method\n",
    "cv = RepeatedStratifiedKFold(n_splits=10, n_repeats=3, random_state=1)\n",
    "# evaluate the model on the dataset\n",
    "n_scores = cross_val_score(model, X, y, scoring='accuracy', cv=cv, n_jobs=-1)\n",
    "# report performance\n",
    "print('Accuracy: %.3f (%.3f)' % (mean(n_scores)*100, std(n_scores)))"
   ]
  },
  {
   "cell_type": "code",
   "execution_count": null,
   "metadata": {},
   "outputs": [],
   "source": []
  }
 ],
 "metadata": {
  "kernelspec": {
   "display_name": "Python 3",
   "language": "python",
   "name": "python3"
  },
  "language_info": {
   "codemirror_mode": {
    "name": "ipython",
    "version": 3
   },
   "file_extension": ".py",
   "mimetype": "text/x-python",
   "name": "python",
   "nbconvert_exporter": "python",
   "pygments_lexer": "ipython3",
   "version": "3.8.3"
  }
 },
 "nbformat": 4,
 "nbformat_minor": 4
}
